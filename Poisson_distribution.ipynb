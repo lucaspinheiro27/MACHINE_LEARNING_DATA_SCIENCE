{
  "nbformat": 4,
  "nbformat_minor": 0,
  "metadata": {
    "colab": {
      "provenance": []
    },
    "kernelspec": {
      "name": "python3",
      "display_name": "Python 3"
    },
    "language_info": {
      "name": "python"
    }
  },
  "cells": [
    {
      "cell_type": "markdown",
      "source": [
        "\n",
        "k: número de eventos\n",
        "e: número de Euler\n",
        "λ: é a média\n",
        "\n",
        "P(k) = [λ^k * e^(-λ)] / k!\n"
      ],
      "metadata": {
        "id": "eyK7tEwzy58r"
      }
    },
    {
      "cell_type": "code",
      "execution_count": 11,
      "metadata": {
        "id": "scG0rpv-lmZg"
      },
      "outputs": [],
      "source": [
        "import numpy as np\n",
        "from scipy.stats import poisson\n",
        "\n",
        "size = 1000\n",
        "mean = 2\n",
        "data = poisson.rvs(mu=mean, size=size)\n"
      ]
    },
    {
      "cell_type": "code",
      "source": [
        "import matplotlib.pyplot as plt\n",
        "plt.hist(data, bins=range(min(data), max(data)+1), align='left', density=True, edgecolor='black')\n",
        "plt.xlabel('Quantidade')\n",
        "plt.ylabel('Frequência')\n",
        "plt.title('Visualização de distribuição de Poisson')\n",
        "\n",
        "plt.axvline(x=5.5, color='Red')\n",
        "plt.show()\n",
        "\n"
      ],
      "metadata": {
        "colab": {
          "base_uri": "https://localhost:8080/",
          "height": 472
        },
        "id": "7qnJ0bJozqJ7",
        "outputId": "14346b86-01e9-46c8-9fea-dd1eccf228d6"
      },
      "execution_count": 22,
      "outputs": [
        {
          "output_type": "display_data",
          "data": {
            "text/plain": [
              "<Figure size 640x480 with 1 Axes>"
            ],
            "image/png": "[encoded data removed]"
          },
          "metadata": {}
        }
      ]
    },
    {
      "cell_type": "code",
      "source": [
        "# probabilidade\n",
        "# ppf, cdf\n",
        "\n",
        "from scipy.stats import poisson\n",
        "k = 0\n",
        "print(poisson.pmf(k, mean))"
      ],
      "metadata": {
        "colab": {
          "base_uri": "https://localhost:8080/"
        },
        "id": "9_B4NKn_1HPq",
        "outputId": "911a46b0-788e-42c0-9966-cc33cd9f4279"
      },
      "execution_count": 16,
      "outputs": [
        {
          "output_type": "stream",
          "name": "stdout",
          "text": [
            "0.1353352832366127\n"
          ]
        }
      ]
    },
    {
      "cell_type": "code",
      "source": [
        "# probabilidade aculada\n",
        "k = 5\n",
        "print(1 - poisson.cdf(k, mean))\n"
      ],
      "metadata": {
        "colab": {
          "base_uri": "https://localhost:8080/"
        },
        "id": "eIxOirID3BwB",
        "outputId": "d21b8bb6-89a1-4439-f45f-dac8afe7ac2f"
      },
      "execution_count": 18,
      "outputs": [
        {
          "output_type": "stream",
          "name": "stdout",
          "text": [
            "0.016563608480614445\n"
          ]
        }
      ]
    },
    {
      "cell_type": "code",
      "source": [
        "# qual a probabilidade do meu número, numa distribuição do Poisson ser 0 ou ser maior do que 5\n",
        "k1 = 0\n",
        "k2 = 5\n",
        "p1 = poisson.cdf(k1, mean)\n",
        "p2 = 1 - poisson.cdf(k2, mean)\n",
        "p_total = p1 + p2\n",
        "print(\"A probabilidade do meu valor ser 0 ou >5 é \", p_total)\n",
        "\n",
        "# Exercício\n",
        "# Calcular a probabilidade do meu valor em uma distribuição de Poisson ser igual a 1, 3 ou 5 para média 3.\n"
      ],
      "metadata": {
        "colab": {
          "base_uri": "https://localhost:8080/"
        },
        "id": "0HYzZQ5Q3l0i",
        "outputId": "428a642e-5b76-4a76-c888-cb84c7234656"
      },
      "execution_count": 19,
      "outputs": [
        {
          "output_type": "stream",
          "name": "stdout",
          "text": [
            "A probabilidade do meu valor ser 0 ou >5 é  0.15189889171722715\n"
          ]
        }
      ]
    }
  ]
}