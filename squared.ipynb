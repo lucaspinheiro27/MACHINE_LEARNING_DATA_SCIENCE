{
  "nbformat": 4,
  "nbformat_minor": 0,
  "metadata": {
    "colab": {
      "provenance": [],
      "authorship_tag": "ABX9TyMt7surK4yWeY1clXNdpufs",
      "include_colab_link": true
    },
    "kernelspec": {
      "name": "python3",
      "display_name": "Python 3"
    },
    "language_info": {
      "name": "python"
    }
  },
  "cells": [
    {
      "cell_type": "markdown",
      "metadata": {
        "id": "view-in-github",
        "colab_type": "text"
      },
      "source": [
        "<a href=\"https://colab.research.google.com/github/lucaspinheiro27/MACHINE_LEARNING_DATA_SCIENCE/blob/main/squared.ipynb\" target=\"_parent\"><img src=\"https://colab.research.google.com/assets/colab-badge.svg\" alt=\"Open In Colab\"/></a>"
      ]
    },
    {
      "cell_type": "markdown",
      "source": [
        "# Squared Numbers"
      ],
      "metadata": {
        "id": "fpPJWgU1aTSg"
      }
    },
    {
      "cell_type": "code",
      "execution_count": 1,
      "metadata": {
        "colab": {
          "base_uri": "https://localhost:8080/"
        },
        "id": "oFnJKlxzZSzm",
        "outputId": "5f62e178-822e-410a-a545-763b363859e9"
      },
      "outputs": [
        {
          "output_type": "stream",
          "name": "stdout",
          "text": [
            "0 0\n",
            "1 1\n",
            "2 4\n",
            "3 9\n",
            "4 16\n",
            "5 25\n",
            "Done\n"
          ]
        }
      ],
      "source": [
        "def squared (x):\n",
        "  return x**2\n",
        "\n",
        "for ii in range(6):\n",
        "  print(ii, squared(ii))\n",
        "\n",
        "print(\"Done\")"
      ]
    },
    {
      "cell_type": "markdown",
      "source": [
        "# Python data structures"
      ],
      "metadata": {
        "id": "vHVBU7LOaOh3"
      }
    },
    {
      "cell_type": "markdown",
      "source": [
        "* Tuple( )"
      ],
      "metadata": {
        "id": "OJP1YkXPbffk"
      }
    },
    {
      "cell_type": "code",
      "source": [
        "import numpy as np\n",
        "# Tuples are immutable\n",
        "#           0            1             2\n",
        "mytuple = ('abc', np.arange(0,3,0.2), 2.5)\n",
        "\n",
        "mytuple[2]"
      ],
      "metadata": {
        "colab": {
          "base_uri": "https://localhost:8080/"
        },
        "id": "Itl-WPaeZydN",
        "outputId": "187323a6-2504-4ffa-a268-dd34078503b5"
      },
      "execution_count": 2,
      "outputs": [
        {
          "output_type": "execute_result",
          "data": {
            "text/plain": [
              "2.5"
            ]
          },
          "metadata": {},
          "execution_count": 2
        }
      ]
    },
    {
      "cell_type": "markdown",
      "source": [
        "* Lists [ ]"
      ],
      "metadata": {
        "id": "M2GXmT6Jbhlt"
      }
    },
    {
      "cell_type": "code",
      "source": [
        "mylist = ['abc', 'def', 'ghij']\n",
        "\n",
        "mylist.append('klm')\n",
        "\n",
        "print(mylist)"
      ],
      "metadata": {
        "colab": {
          "base_uri": "https://localhost:8080/"
        },
        "id": "18DxRCVEbD_Q",
        "outputId": "fbacb580-5d85-432d-9b8f-ef7425d51ca5"
      },
      "execution_count": 3,
      "outputs": [
        {
          "output_type": "stream",
          "name": "stdout",
          "text": [
            "['abc', 'def', 'ghij', 'klm']\n"
          ]
        }
      ]
    },
    {
      "cell_type": "code",
      "source": [
        "mylist2 = [1,2,3]\n",
        "mylist3 = [4,5,6]\n",
        "\n",
        "mylist2 + mylist3"
      ],
      "metadata": {
        "colab": {
          "base_uri": "https://localhost:8080/"
        },
        "id": "3daNvK_Ab_L9",
        "outputId": "764f1dec-eb5a-4482-a525-26646d99ae35"
      },
      "execution_count": 4,
      "outputs": [
        {
          "output_type": "execute_result",
          "data": {
            "text/plain": [
              "[1, 2, 3, 4, 5, 6]"
            ]
          },
          "metadata": {},
          "execution_count": 4
        }
      ]
    },
    {
      "cell_type": "markdown",
      "source": [
        "* Array[ ]"
      ],
      "metadata": {
        "id": "CJJO1LRTcMXO"
      }
    },
    {
      "cell_type": "code",
      "source": [
        "myarray2 = np.array(mylist2)\n",
        "myarray3 = np.array(mylist3)\n",
        "\n",
        "myarray2 + myarray3"
      ],
      "metadata": {
        "colab": {
          "base_uri": "https://localhost:8080/"
        },
        "id": "F0KHEbHUcG2x",
        "outputId": "d2cd183f-219b-46f9-d18b-7e5c7274d95f"
      },
      "execution_count": 5,
      "outputs": [
        {
          "output_type": "execute_result",
          "data": {
            "text/plain": [
              "array([5, 7, 9])"
            ]
          },
          "metadata": {},
          "execution_count": 5
        }
      ]
    },
    {
      "cell_type": "code",
      "source": [
        "myarray2.dot(myarray3)"
      ],
      "metadata": {
        "colab": {
          "base_uri": "https://localhost:8080/"
        },
        "id": "9opl3s3jchgf",
        "outputId": "d58ea261-6923-48c8-c36d-e80007219b81"
      },
      "execution_count": 6,
      "outputs": [
        {
          "output_type": "execute_result",
          "data": {
            "text/plain": [
              "32"
            ]
          },
          "metadata": {},
          "execution_count": 6
        }
      ]
    },
    {
      "cell_type": "markdown",
      "source": [
        "* Dictionary { }"
      ],
      "metadata": {
        "id": "FBJzazGTewGg"
      }
    },
    {
      "cell_type": "code",
      "source": [
        "mydict = dict(one=1, two=2, info='some information')\n",
        "mydict2 = {'ten':1, 'twenty':20, 'info':'more information'}"
      ],
      "metadata": {
        "id": "Pf9EZJlIdakW"
      },
      "execution_count": 7,
      "outputs": []
    },
    {
      "cell_type": "code",
      "source": [
        "mydict['info']"
      ],
      "metadata": {
        "colab": {
          "base_uri": "https://localhost:8080/",
          "height": 35
        },
        "id": "OC3PLyErfXq3",
        "outputId": "4a6a54bb-4f30-42dd-fa6b-1a2c7a7c43ac"
      },
      "execution_count": 8,
      "outputs": [
        {
          "output_type": "execute_result",
          "data": {
            "text/plain": [
              "'some information'"
            ],
            "application/vnd.google.colaboratory.intrinsic+json": {
              "type": "string"
            }
          },
          "metadata": {},
          "execution_count": 8
        }
      ]
    },
    {
      "cell_type": "code",
      "source": [
        "mydict.keys()"
      ],
      "metadata": {
        "colab": {
          "base_uri": "https://localhost:8080/"
        },
        "id": "y-rUiJoDfcDT",
        "outputId": "42752e9e-c1f2-495c-cd47-78dc32b0a780"
      },
      "execution_count": 9,
      "outputs": [
        {
          "output_type": "execute_result",
          "data": {
            "text/plain": [
              "dict_keys(['one', 'two', 'info'])"
            ]
          },
          "metadata": {},
          "execution_count": 9
        }
      ]
    },
    {
      "cell_type": "markdown",
      "source": [
        "* Vectors and Arrays"
      ],
      "metadata": {
        "id": "xAtO40U9fpkF"
      }
    },
    {
      "cell_type": "code",
      "source": [
        "np.zeros(3)"
      ],
      "metadata": {
        "colab": {
          "base_uri": "https://localhost:8080/"
        },
        "id": "z9laIaZqffR0",
        "outputId": "e677335f-ef2a-4a00-9e85-09660cb7b8d3"
      },
      "execution_count": 10,
      "outputs": [
        {
          "output_type": "execute_result",
          "data": {
            "text/plain": [
              "array([0., 0., 0.])"
            ]
          },
          "metadata": {},
          "execution_count": 10
        }
      ]
    },
    {
      "cell_type": "code",
      "source": [
        "np.zeros((2,3))"
      ],
      "metadata": {
        "colab": {
          "base_uri": "https://localhost:8080/"
        },
        "id": "l2zbwRTwgjYI",
        "outputId": "638d622a-620b-4996-ac5e-a6bcd83684ef"
      },
      "execution_count": 11,
      "outputs": [
        {
          "output_type": "execute_result",
          "data": {
            "text/plain": [
              "array([[0., 0., 0.],\n",
              "       [0., 0., 0.]])"
            ]
          },
          "metadata": {},
          "execution_count": 11
        }
      ]
    },
    {
      "cell_type": "code",
      "source": [
        "np.arange(3)"
      ],
      "metadata": {
        "colab": {
          "base_uri": "https://localhost:8080/"
        },
        "id": "l7ZjSR4KgmqN",
        "outputId": "4d15616d-6e5f-4ed2-8777-992206973f3b"
      },
      "execution_count": 12,
      "outputs": [
        {
          "output_type": "execute_result",
          "data": {
            "text/plain": [
              "array([0, 1, 2])"
            ]
          },
          "metadata": {},
          "execution_count": 12
        }
      ]
    },
    {
      "cell_type": "code",
      "source": [
        "#         s e  si\n",
        "np.arange(1,3,0.5)"
      ],
      "metadata": {
        "colab": {
          "base_uri": "https://localhost:8080/"
        },
        "id": "RayjurdGgzYP",
        "outputId": "054d0105-bb9d-48f7-e0c6-bb07fa991a42"
      },
      "execution_count": 13,
      "outputs": [
        {
          "output_type": "execute_result",
          "data": {
            "text/plain": [
              "array([1. , 1.5, 2. , 2.5])"
            ]
          },
          "metadata": {},
          "execution_count": 13
        }
      ]
    },
    {
      "cell_type": "code",
      "source": [
        "xlow = np.arange(0,3, 0.5)\n",
        "xhigh = np.arange(3,5,0.5)"
      ],
      "metadata": {
        "id": "pYz5Wy9Fg3kh"
      },
      "execution_count": 14,
      "outputs": []
    },
    {
      "cell_type": "code",
      "source": [
        "xlow"
      ],
      "metadata": {
        "colab": {
          "base_uri": "https://localhost:8080/"
        },
        "id": "GG7M6jQvhSW5",
        "outputId": "bc0142d9-3916-4473-c6dc-f47e1d83a748"
      },
      "execution_count": 15,
      "outputs": [
        {
          "output_type": "execute_result",
          "data": {
            "text/plain": [
              "array([0. , 0.5, 1. , 1.5, 2. , 2.5])"
            ]
          },
          "metadata": {},
          "execution_count": 15
        }
      ]
    },
    {
      "cell_type": "code",
      "source": [
        "xhigh"
      ],
      "metadata": {
        "colab": {
          "base_uri": "https://localhost:8080/"
        },
        "id": "08-xszu9hT5I",
        "outputId": "7cafbfd1-ffe2-4066-b590-837ab0edce69"
      },
      "execution_count": 16,
      "outputs": [
        {
          "output_type": "execute_result",
          "data": {
            "text/plain": [
              "array([3. , 3.5, 4. , 4.5])"
            ]
          },
          "metadata": {},
          "execution_count": 16
        }
      ]
    },
    {
      "cell_type": "code",
      "source": [
        "np.linspace(0,10,6)"
      ],
      "metadata": {
        "colab": {
          "base_uri": "https://localhost:8080/"
        },
        "id": "qWpBt0OzhVMj",
        "outputId": "a8b21aeb-afe9-4930-c0bb-b3a7cf5acdce"
      },
      "execution_count": 17,
      "outputs": [
        {
          "output_type": "execute_result",
          "data": {
            "text/plain": [
              "array([ 0.,  2.,  4.,  6.,  8., 10.])"
            ]
          },
          "metadata": {},
          "execution_count": 17
        }
      ]
    },
    {
      "cell_type": "code",
      "source": [
        "np.array([[1,2], [3,4]])"
      ],
      "metadata": {
        "id": "Ds-M6b1RhcRm",
        "colab": {
          "base_uri": "https://localhost:8080/"
        },
        "outputId": "a5f4c6be-a60c-4f50-bf71-725d4bc1ca11"
      },
      "execution_count": 18,
      "outputs": [
        {
          "output_type": "execute_result",
          "data": {
            "text/plain": [
              "array([[1, 2],\n",
              "       [3, 4]])"
            ]
          },
          "metadata": {},
          "execution_count": 18
        }
      ]
    },
    {
      "cell_type": "code",
      "source": [
        "Amat = np.array([[1,2],\n",
        "                 [3,4]])"
      ],
      "metadata": {
        "id": "ihy714cBT3Aa"
      },
      "execution_count": 19,
      "outputs": []
    },
    {
      "cell_type": "code",
      "source": [
        "Amat[0] #first row only"
      ],
      "metadata": {
        "colab": {
          "base_uri": "https://localhost:8080/"
        },
        "id": "6WzpJhvxUFD1",
        "outputId": "321ab759-9214-4d81-89a8-fa8024cf40c8"
      },
      "execution_count": 21,
      "outputs": [
        {
          "output_type": "execute_result",
          "data": {
            "text/plain": [
              "array([1, 2])"
            ]
          },
          "metadata": {},
          "execution_count": 21
        }
      ]
    },
    {
      "cell_type": "code",
      "source": [
        "x = np.arange(3)\n",
        "Amat = np.array([[1,2], [3,4]])"
      ],
      "metadata": {
        "id": "aOgoZuAVUHLf"
      },
      "execution_count": 23,
      "outputs": []
    },
    {
      "cell_type": "code",
      "source": [
        "x.T == x"
      ],
      "metadata": {
        "colab": {
          "base_uri": "https://localhost:8080/"
        },
        "id": "HXScfp5NUY3P",
        "outputId": "8dc129b0-be50-4faf-965e-652d9c4d9339"
      },
      "execution_count": 24,
      "outputs": [
        {
          "output_type": "execute_result",
          "data": {
            "text/plain": [
              "array([ True,  True,  True])"
            ]
          },
          "metadata": {},
          "execution_count": 24
        }
      ]
    },
    {
      "cell_type": "code",
      "source": [
        "Amat.T == Amat"
      ],
      "metadata": {
        "colab": {
          "base_uri": "https://localhost:8080/"
        },
        "id": "Cp96kFafUg1H",
        "outputId": "b6e39087-3244-4bef-f9a1-b7d8aa95ec34"
      },
      "execution_count": 26,
      "outputs": [
        {
          "output_type": "execute_result",
          "data": {
            "text/plain": [
              "array([[ True, False],\n",
              "       [False,  True]])"
            ]
          },
          "metadata": {},
          "execution_count": 26
        }
      ]
    },
    {
      "cell_type": "markdown",
      "source": [
        "# Functions"
      ],
      "metadata": {
        "id": "iG2F-5X7Y_SE"
      }
    },
    {
      "cell_type": "code",
      "source": [
        "#Definindo a função\n",
        "def incomeandexpenses(data):\n",
        "\n",
        "#A soma dos dados não pode ser menor ou igual zero\n",
        "  income = np.sum(data[data>0])\n",
        "#A soma dos dados tem que ser menor ou igual a zero\n",
        "  expenses = np.sum(data[data<0])\n",
        "#retorna a função\n",
        "  return (income, expenses)\n",
        "\n",
        "#solução para evitar erro de importação de módulos\n",
        "if __name__=='__main__':\n",
        "  testData = np.array([-5, 12, 3, -6, -4, 8])\n",
        "#Verifica se a primeira transação foi uma perda de faz um delete\n",
        "  if testData[0] < 0:\n",
        "    print('Yout first transaction was a loss, and will be dropped')\n",
        "    testData = np.delete(testData, 0)\n",
        "  else:\n",
        "    print('Congratulations: Your first transaction was a gain!')\n",
        "#se for ganho ele printa, em seguida ele adiciona em outras duas variáveis de acordo com os dados testes\n",
        "  (myincome, myexpenses) = incomeandexpenses(testData)\n",
        "  print('You have earned {0:5.2f} EUR, and spent {1:5.2f} EUR.'.format(myincome, -myexpenses))"
      ],
      "metadata": {
        "colab": {
          "base_uri": "https://localhost:8080/"
        },
        "id": "ucNC_8SiX4eO",
        "outputId": "0d31bd78-f203-49b9-ae5f-9766f45b512b"
      },
      "execution_count": 31,
      "outputs": [
        {
          "output_type": "stream",
          "name": "stdout",
          "text": [
            "Yout first transaction was a loss, and will be dropped\n",
            "You have earned 23.00 EUR, and spent 10.00 EUR.\n"
          ]
        }
      ]
    },
    {
      "cell_type": "code",
      "source": [],
      "metadata": {
        "id": "DJwNcr3bZYd6"
      },
      "execution_count": null,
      "outputs": []
    }
  ]
}