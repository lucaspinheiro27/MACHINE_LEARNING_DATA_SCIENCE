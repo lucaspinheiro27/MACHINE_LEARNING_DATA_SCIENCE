{
  "nbformat": 4,
  "nbformat_minor": 0,
  "metadata": {
    "colab": {
      "provenance": []
    },
    "kernelspec": {
      "name": "python3",
      "display_name": "Python 3"
    },
    "language_info": {
      "name": "python"
    }
  },
  "cells": [
    {
      "cell_type": "code",
      "execution_count": 23,
      "metadata": {
        "id": "tBKiz74aPEUs",
        "colab": {
          "base_uri": "https://localhost:8080/"
        },
        "outputId": "3e086e0e-7302-48ca-cea7-306bc97c33e5"
      },
      "outputs": [
        {
          "output_type": "execute_result",
          "data": {
            "text/plain": [
              "(906547, 25)"
            ]
          },
          "metadata": {},
          "execution_count": 23
        }
      ],
      "source": [
        "import numpy as np\n",
        "import pandas as pd\n",
        "import matplotlib.pyplot as plt\n",
        "import seaborn as sns\n",
        "import statsmodels.api as sm\n",
        "import scipy.stats as stats\n",
        "from sklearn.linear_model import LinearRegression\n",
        "from sklearn.preprocessing import PolynomialFeatures\n",
        "from sklearn.model_selection import train_test_split\n",
        "\n",
        "df = pd.read_csv('/content/drive/MyDrive/Colab Notebooks/MLDS/Aula 6/TMDB_all_movies.csv')\n",
        "df.shape"
      ]
    },
    {
      "cell_type": "code",
      "source": [
        "# Mudar original_language em uma variável binária (se é ou não inglês)\n",
        "df['is_en'] =  df['original_language'].apply(lambda x: 1 if x == 'en' else 0)\n",
        "\n",
        "# Verificar se país de produção contém Estados Unidos, então marca 1, senão, marca 0\n",
        "df['is_usa'] = df['production_countries'].apply(lambda x: 1 if isinstance(x, str) and 'United States of America' in x else 0)\n",
        "\n",
        "df['revenue_linear'] = df['revenue'].apply(lambda x: np.log(x) if x > 0 else 0)\n",
        "df['budget_linear'] = df['budget'].apply(lambda x: np.log(x) if x > 0 else 0)\n",
        "\n",
        "# verificar se ano do lançamento é maior que 2000\n",
        "df['year'] = pd.to_datetime(df['release_date']).apply(lambda x:1 if x.year > 2000 else 0)\n",
        "\n",
        "# missing: trato missing removendo a observação\n",
        "df1 = df\n",
        "df1 = df1[df1['vote_count'] > 500]\n",
        "df1 = df1[df1['revenue'] > 0]\n",
        "df1 = df1[df1['budget'] > 0]"
      ],
      "metadata": {
        "id": "3dALbp8WSiGX"
      },
      "execution_count": 62,
      "outputs": []
    },
    {
      "cell_type": "code",
      "source": [
        "\n",
        "df1.isnull().sum()\n",
        "df1 = df1.dropna()\n"
      ],
      "metadata": {
        "colab": {
          "base_uri": "https://localhost:8080/"
        },
        "id": "S3V1z6VhWouE",
        "outputId": "56bcdaf6-1767-4ed4-9169-ccd9274e93ef"
      },
      "execution_count": 44,
      "outputs": [
        {
          "output_type": "execute_result",
          "data": {
            "text/plain": [
              "id                           0\n",
              "title                        0\n",
              "vote_average                 0\n",
              "vote_count                   0\n",
              "status                       0\n",
              "release_date                 0\n",
              "revenue                      0\n",
              "runtime                      0\n",
              "budget                       0\n",
              "imdb_id                      0\n",
              "original_language            0\n",
              "original_title               0\n",
              "overview                     0\n",
              "popularity                   0\n",
              "tagline                    260\n",
              "genres                       0\n",
              "production_companies         0\n",
              "production_countries         0\n",
              "spoken_languages             1\n",
              "cast                       216\n",
              "director                   215\n",
              "director_of_photography    464\n",
              "writers                    219\n",
              "producers                  250\n",
              "music_composer             981\n",
              "is_en                        0\n",
              "is_usa                       0\n",
              "revenue_linear               0\n",
              "budget_linear                0\n",
              "year                         0\n",
              "dtype: int64"
            ]
          },
          "metadata": {},
          "execution_count": 44
        }
      ]
    },
    {
      "cell_type": "code",
      "source": [
        "# separar amostras de treino e amostras de teste\n",
        "df_train, df_test = train_test_split(df1, test_size=0.5)\n",
        "\n",
        "# criei minhas amostras de teste com 10%\n",
        "samples = [df_test.sample(frac=0.1) for _ in range(20)]\n"
      ],
      "metadata": {
        "id": "M3uHaJypihhS"
      },
      "execution_count": 66,
      "outputs": []
    },
    {
      "cell_type": "code",
      "source": [
        "\n",
        "X_train = df_train[['revenue_linear', 'budget_linear', 'is_en', 'is_usa', 'year']].to_numpy()\n",
        "Y_train = df_train['vote_average'] # quem eu quero explicar!!!\n",
        "\n",
        "linear_model = LinearRegression()\n",
        "linear_model.fit(X_train, Y_train)\n",
        "linear_score = linear_model.score(X_train, Y_train)\n",
        "\n",
        "# linear: 1 beta para cada X\n",
        "# polinomial: Eu tenho N betas para cada X, tal que N = grau da regressão polinomial\n",
        "\n",
        "# equação regressão linear\n",
        "# ŷ = Beta0 + Beta1 * X1 + Beta2 * X2 + BetaN * XN + E\n",
        "\n",
        "# equação da regressão polinomial grau 2\n",
        "# ŷ = Beta0 + Beta11 * X1 + Beta12 * X1 + Beta21 * X2 + Beta22 * X2 + BetaN1 * XN + BetaN2 * XN + E\n",
        "\n",
        "poly_features = PolynomialFeatures(degree=2)\n",
        "X_poly_train = poly_features.fit_transform(X_train)\n",
        "model_poly = LinearRegression()\n",
        "model_poly.fit(X_poly_train, Y_train)\n",
        "poly_score = model_poly.score(X_poly_train, Y_train)\n",
        "\n",
        "test_score_poly = []\n",
        "test_score_linear = []\n",
        "for sample in samples:\n",
        "  X_test = sample[['revenue_linear', 'budget_linear', 'is_en', 'is_usa', 'year']].to_numpy()\n",
        "  Y_test = sample['vote_average']\n",
        "  test_score_linear.append(linear_model.score(X_test, Y_test))\n",
        "\n",
        "  X_poly_test = poly_features.fit_transform(X_test)\n",
        "  test_score_poly.append(model_poly.score(X_poly_test, Y_test))\n",
        "\n",
        "alpha = 0.1\n",
        "t_test, p_value = stats.ttest_1samp(test_score_linear, popmean=linear_score)\n",
        "if p_value > alpha:\n",
        "  print(\"Aceito H0 para linear\")\n",
        "else:\n",
        "  print(\"Aceito H1 para linear\")\n",
        "print(\"p-valor linear: \", p_value)\n",
        "print(\"Linear score: \", linear_score)\n",
        "print()\n",
        "\n",
        "t_test, p_value = stats.ttest_1samp(test_score_poly, popmean=poly_score)\n",
        "if p_value > alpha:\n",
        "  print(\"Aceito H0 para poly\")\n",
        "else:\n",
        "  print(\"Aceito H1 para poly\")\n",
        "print(\"p-valor poly: \", p_value)\n",
        "print(\"Poly score: \", poly_score)"
      ],
      "metadata": {
        "colab": {
          "base_uri": "https://localhost:8080/"
        },
        "id": "1sJmTl8caxV5",
        "outputId": "dbf4fa70-c5ff-4df1-9c0e-a41e0a9f59bd"
      },
      "execution_count": 69,
      "outputs": [
        {
          "output_type": "stream",
          "name": "stdout",
          "text": [
            "Aceito H0 para linear\n",
            "p-valor linear:  0.2535187059570082\n",
            "Linear score:  0.0621681478695395\n",
            "\n",
            "Aceito H0 para poly\n",
            "p-valor poly:  0.38913648512091636\n",
            "Poly score:  0.06790268805679767\n"
          ]
        }
      ]
    },
    {
      "cell_type": "markdown",
      "source": [
        "Aceito H0 para linear\n",
        "p-valor linear:  0.20799141505854793\n",
        "Linear score:  0.0623370865363061\n",
        "\n",
        "Aceito H0 para poly\n",
        "p-valor poly:  0.8888027641294789\n",
        "Poly score:  0.06636034316410555"
      ],
      "metadata": {
        "id": "_Bivs546j05G"
      }
    }
  ]
}