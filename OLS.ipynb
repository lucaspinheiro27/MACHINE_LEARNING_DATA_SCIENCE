{
 "cells": [
  {
   "cell_type": "code",
   "execution_count": 8,
   "id": "e6df6357-b6ae-4eb2-a0e3-930252f81b8e",
   "metadata": {},
   "outputs": [],
   "source": [
    "import numpy as np\n",
    "import pandas as pd\n",
    "import matplotlib.pyplot as plt\n",
    "from sklearn.linear_model import LinearRegression\n",
    "import seaborn as sns\n",
    "import statsmodels.api as sm"
   ]
  },
  {
   "cell_type": "code",
   "execution_count": 9,
   "id": "c21012c2-a381-44e5-91a2-5688688e45dc",
   "metadata": {},
   "outputs": [],
   "source": [
    "df = pd.read_csv(\"salarios2.csv\", sep = \"\\t\", decimal = ',', encoding='latin1')"
   ]
  },
  {
   "cell_type": "markdown",
   "id": "bd54977a-97bb-4c3c-8ee7-5e96549fa711",
   "metadata": {},
   "source": [
    "- Forma de uma Regressão Linear (equação de 1º grau)\n",
    "# Y = b0 + b1 * X"
   ]
  },
  {
   "cell_type": "markdown",
   "id": "1dc5a037-234f-4524-ab9a-362801e651cf",
   "metadata": {},
   "source": [
    "- X: são as minhas variáveis explicativas; tem que\n",
    "- ser produzido como array bidimensional\n",
    "- para acomodar múltiplas variáveis por observação."
   ]
  },
  {
   "cell_type": "code",
   "execution_count": 10,
   "id": "c0bd4d34-81f2-4d67-9bad-138404eb73b6",
   "metadata": {},
   "outputs": [],
   "source": [
    "x = df[['anos_exp','anos_estudo']].to_numpy()"
   ]
  },
  {
   "cell_type": "markdown",
   "id": "e2e87420-2a4b-43ef-8842-eaf72a709398",
   "metadata": {},
   "source": [
    "- Y: é um array unidimensional, pois só há 1 variável\n",
    "- sendo prevista"
   ]
  },
  {
   "cell_type": "code",
   "execution_count": 11,
   "id": "42e7e4ff-173b-4ede-8c1b-6ad413960c08",
   "metadata": {},
   "outputs": [],
   "source": [
    "y = df['salario'].to_numpy()"
   ]
  },
  {
   "cell_type": "code",
   "execution_count": 12,
   "id": "2be3306f-7530-4a12-b80e-3e66af10ff06",
   "metadata": {},
   "outputs": [],
   "source": [
    "x = sm.add_constant(x)"
   ]
  },
  {
   "cell_type": "code",
   "execution_count": 13,
   "id": "5675b969-2006-48bc-9849-b2a815faa0e1",
   "metadata": {},
   "outputs": [],
   "source": [
    "model = sm.OLS(y, x).fit()"
   ]
  },
  {
   "cell_type": "code",
   "execution_count": 14,
   "id": "9d76fe7b-8876-4d22-a33e-d25f36121286",
   "metadata": {},
   "outputs": [
    {
     "name": "stdout",
     "output_type": "stream",
     "text": [
      "                            OLS Regression Results                            \n",
      "==============================================================================\n",
      "Dep. Variable:                      y   R-squared:                       0.987\n",
      "Model:                            OLS   Adj. R-squared:                  0.983\n",
      "Method:                 Least Squares   F-statistic:                     262.6\n",
      "Date:                Mon, 19 Feb 2024   Prob (F-statistic):           2.61e-07\n",
      "Time:                        13:23:47   Log-Likelihood:                -80.125\n",
      "No. Observations:                  10   AIC:                             166.3\n",
      "Df Residuals:                       7   BIC:                             167.2\n",
      "Df Model:                           2                                         \n",
      "Covariance Type:            nonrobust                                         \n",
      "==============================================================================\n",
      "                 coef    std err          t      P>|t|      [0.025      0.975]\n",
      "------------------------------------------------------------------------------\n",
      "const       -547.5214   1151.630     -0.475      0.649   -3270.694    2175.651\n",
      "x1           618.2294     33.346     18.540      0.000     539.378     697.081\n",
      "x2            76.2159     87.290      0.873      0.412    -130.193     282.625\n",
      "==============================================================================\n",
      "Omnibus:                        2.826   Durbin-Watson:                   2.165\n",
      "Prob(Omnibus):                  0.243   Jarque-Bera (JB):                1.598\n",
      "Skew:                          -0.952   Prob(JB):                        0.450\n",
      "Kurtosis:                       2.543   Cond. No.                         90.8\n",
      "==============================================================================\n",
      "\n",
      "Notes:\n",
      "[1] Standard Errors assume that the covariance matrix of the errors is correctly specified.\n"
     ]
    },
    {
     "name": "stderr",
     "output_type": "stream",
     "text": [
      "C:\\Users\\lucas\\AppData\\Local\\Programs\\Python\\Python312\\Lib\\site-packages\\scipy\\stats\\_stats_py.py:1971: UserWarning: kurtosistest only valid for n>=20 ... continuing anyway, n=10\n",
      "  k, _ = kurtosistest(a, axis)\n"
     ]
    }
   ],
   "source": [
    "print(model.summary())"
   ]
  },
  {
   "cell_type": "code",
   "execution_count": null,
   "id": "ea67c8ba-3da6-4ff8-93c4-f7e10c44f5bf",
   "metadata": {},
   "outputs": [],
   "source": []
  }
 ],
 "metadata": {
  "kernelspec": {
   "display_name": "Python 3 (ipykernel)",
   "language": "python",
   "name": "python3"
  },
  "language_info": {
   "codemirror_mode": {
    "name": "ipython",
    "version": 3
   },
   "file_extension": ".py",
   "mimetype": "text/x-python",
   "name": "python",
   "nbconvert_exporter": "python",
   "pygments_lexer": "ipython3",
   "version": "3.12.1"
  }
 },
 "nbformat": 4,
 "nbformat_minor": 5
}
